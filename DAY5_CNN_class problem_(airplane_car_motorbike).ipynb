{
 "cells": [
  {
   "cell_type": "code",
   "execution_count": 92,
   "metadata": {},
   "outputs": [],
   "source": [
    "from keras.models import Sequential\n",
    "from keras.layers import Conv2D\n",
    "from keras.layers import MaxPooling2D\n",
    "from keras.layers import Flatten\n",
    "from keras.layers import Dense"
   ]
  },
  {
   "cell_type": "code",
   "execution_count": 91,
   "metadata": {},
   "outputs": [],
   "source": [
    "classfier=Sequential()"
   ]
  },
  {
   "cell_type": "code",
   "execution_count": 93,
   "metadata": {},
   "outputs": [],
   "source": [
    "#Convlution layer\n",
    "classfier.add(Conv2D(64,(3,3),input_shape=(150,150,3),activation='relu'))\n",
    "\n",
    "#max pooling\n",
    "classfier.add(MaxPooling2D(pool_size=(2,2)))\n",
    "\n",
    "#Add another layer\n",
    "classfier.add(Conv2D(64,(3,3),activation='relu'))\n",
    "\n",
    "#max pooling\n",
    "classfier.add(MaxPooling2D(pool_size=(2,2)))\n",
    "#Add another layer\n",
    "classfier.add(Conv2D(64,(3,3),activation='relu'))\n",
    "\n",
    "#max pooling\n",
    "classfier.add(MaxPooling2D(pool_size=(2,2)))"
   ]
  },
  {
   "cell_type": "code",
   "execution_count": 94,
   "metadata": {},
   "outputs": [],
   "source": [
    "#faltting\n",
    "classfier.add(Flatten())"
   ]
  },
  {
   "cell_type": "code",
   "execution_count": 95,
   "metadata": {},
   "outputs": [],
   "source": [
    "#dense layer\n",
    "classfier.add(Dense(units=150,activation='relu'))\n",
    "classfier.add(Dense(units=150,activation='relu'))"
   ]
  },
  {
   "cell_type": "code",
   "execution_count": 96,
   "metadata": {},
   "outputs": [],
   "source": [
    "classfier.add(Dense(units=3,activation='softmax'))"
   ]
  },
  {
   "cell_type": "code",
   "execution_count": 97,
   "metadata": {},
   "outputs": [],
   "source": [
    "from keras.preprocessing.image import ImageDataGenerator as I\n",
    "train_datagen=I(rescale=.1/255,\n",
    "               shear_range=0.2,\n",
    "               zoom_range=0.2,\n",
    "               horizontal_flip=True)\n"
   ]
  },
  {
   "cell_type": "code",
   "execution_count": 98,
   "metadata": {},
   "outputs": [],
   "source": [
    "## Scaling test data\n",
    "##no  data augmentation\n",
    "test_datagen = I(rescale=1./255)"
   ]
  },
  {
   "cell_type": "code",
   "execution_count": 99,
   "metadata": {},
   "outputs": [],
   "source": [
    "classfier.compile(optimizer = 'adam', loss = 'categorical_crossentropy', metrics = ['accuracy'])"
   ]
  },
  {
   "cell_type": "code",
   "execution_count": 100,
   "metadata": {},
   "outputs": [
    {
     "name": "stdout",
     "output_type": "stream",
     "text": [
      "Found 1050 images belonging to 3 classes.\n"
     ]
    }
   ],
   "source": [
    "train_set = train_datagen.flow_from_directory('data\\\\train',\n",
    "                                               target_size=(150, 150),\n",
    "                                               batch_size=10,\n",
    "                                               class_mode='categorical')"
   ]
  },
  {
   "cell_type": "code",
   "execution_count": 101,
   "metadata": {},
   "outputs": [
    {
     "name": "stdout",
     "output_type": "stream",
     "text": [
      "Found 105 images belonging to 3 classes.\n"
     ]
    }
   ],
   "source": [
    "## Importng test data\n",
    "test_set = test_datagen.flow_from_directory('data\\\\test',\n",
    "                                            target_size=(150, 150),\n",
    "                                            batch_size=6,\n",
    "                                            class_mode='categorical')"
   ]
  },
  {
   "cell_type": "code",
   "execution_count": 102,
   "metadata": {},
   "outputs": [
    {
     "name": "stdout",
     "output_type": "stream",
     "text": [
      "Epoch 1/10\n",
      "100/100 [==============================] - 37s 367ms/step - loss: 0.9620 - acc: 0.4830 - val_loss: 7.9324 - val_acc: 0.3446\n",
      "Epoch 2/10\n",
      "100/100 [==============================] - 35s 346ms/step - loss: 0.7859 - acc: 0.6430 - val_loss: 1.6719 - val_acc: 0.4713\n",
      "Epoch 3/10\n",
      "100/100 [==============================] - 35s 345ms/step - loss: 0.7240 - acc: 0.6690 - val_loss: 3.9794 - val_acc: 0.4655\n",
      "Epoch 4/10\n",
      "100/100 [==============================] - 34s 345ms/step - loss: 0.6639 - acc: 0.7100 - val_loss: 2.0619 - val_acc: 0.6554\n",
      "Epoch 5/10\n",
      "100/100 [==============================] - 34s 345ms/step - loss: 0.6550 - acc: 0.7380 - val_loss: 2.5067 - val_acc: 0.6322\n",
      "Epoch 6/10\n",
      "100/100 [==============================] - 35s 348ms/step - loss: 0.6001 - acc: 0.7480 - val_loss: 2.2811 - val_acc: 0.6322\n",
      "Epoch 7/10\n",
      "100/100 [==============================] - 35s 351ms/step - loss: 0.5160 - acc: 0.7930 - val_loss: 3.0070 - val_acc: 0.6441\n",
      "Epoch 8/10\n",
      "100/100 [==============================] - 35s 348ms/step - loss: 0.5187 - acc: 0.7920 - val_loss: 2.9234 - val_acc: 0.6609\n",
      "Epoch 9/10\n",
      "100/100 [==============================] - 36s 355ms/step - loss: 0.4615 - acc: 0.8160 - val_loss: 3.0524 - val_acc: 0.6724\n",
      "Epoch 10/10\n",
      "100/100 [==============================] - 35s 349ms/step - loss: 0.4170 - acc: 0.8400 - val_loss: 2.2126 - val_acc: 0.7062\n"
     ]
    },
    {
     "data": {
      "text/plain": [
       "<keras.callbacks.History at 0x297d98d6240>"
      ]
     },
     "execution_count": 102,
     "metadata": {},
     "output_type": "execute_result"
    }
   ],
   "source": [
    "classfier.fit_generator(\n",
    "        train_set,\n",
    "        steps_per_epoch=100,\n",
    "        epochs=10,\n",
    "        validation_data=test_set,\n",
    "        validation_steps=30)"
   ]
  },
  {
   "cell_type": "code",
   "execution_count": 80,
   "metadata": {},
   "outputs": [],
   "source": [
    "## prediction of single new data\n",
    "import numpy as np\n",
    "from keras.preprocessing import image\n",
    "test_image= image.load_img('data\\\\inference\\\\bike34.jpg'\n",
    "                           ,target_size =(150,150))\n"
   ]
  },
  {
   "cell_type": "code",
   "execution_count": 81,
   "metadata": {},
   "outputs": [
    {
     "data": {
      "image/png": "[encoded data removed]",
      "text/plain": [
       "<PIL.Image.Image image mode=RGB size=150x150 at 0x297D94F9940>"
      ]
     },
     "execution_count": 81,
     "metadata": {},
     "output_type": "execute_result"
    }
   ],
   "source": [
    "test_image"
   ]
  },
  {
   "cell_type": "code",
   "execution_count": 82,
   "metadata": {},
   "outputs": [],
   "source": [
    "test_image = image.img_to_array(test_image)"
   ]
  },
  {
   "cell_type": "code",
   "execution_count": 83,
   "metadata": {},
   "outputs": [],
   "source": [
    "test_image=test_image.reshape(1,150,150,3)"
   ]
  },
  {
   "cell_type": "code",
   "execution_count": 84,
   "metadata": {},
   "outputs": [],
   "source": [
    "result = classfier.predict(test_image)"
   ]
  },
  {
   "cell_type": "code",
   "execution_count": 85,
   "metadata": {},
   "outputs": [
    {
     "data": {
      "text/plain": [
       "array([[0., 1., 0.]], dtype=float32)"
      ]
     },
     "execution_count": 85,
     "metadata": {},
     "output_type": "execute_result"
    }
   ],
   "source": [
    "np.around(result)"
   ]
  },
  {
   "cell_type": "code",
   "execution_count": 86,
   "metadata": {},
   "outputs": [],
   "source": [
    "result=result.argmax()"
   ]
  },
  {
   "cell_type": "code",
   "execution_count": 87,
   "metadata": {},
   "outputs": [
    {
     "data": {
      "text/plain": [
       "1"
      ]
     },
     "execution_count": 87,
     "metadata": {},
     "output_type": "execute_result"
    }
   ],
   "source": [
    "result"
   ]
  },
  {
   "cell_type": "code",
   "execution_count": 88,
   "metadata": {},
   "outputs": [],
   "source": [
    "if result==0:\n",
    "    prediction = 'airplane'\n",
    "elif result==1:\n",
    "    prediction = 'car'\n",
    "else:\n",
    "    prediction=\"bike\""
   ]
  },
  {
   "cell_type": "code",
   "execution_count": 89,
   "metadata": {},
   "outputs": [
    {
     "data": {
      "text/plain": [
       "'car'"
      ]
     },
     "execution_count": 89,
     "metadata": {},
     "output_type": "execute_result"
    }
   ],
   "source": [
    "prediction"
   ]
  },
  {
   "cell_type": "code",
   "execution_count": 105,
   "metadata": {},
   "outputs": [
    {
     "name": "stdout",
     "output_type": "stream",
     "text": [
      "save model to disk\n"
     ]
    }
   ],
   "source": [
    "#Save the model to furtur inference\n",
    "model_json=classfier.to_json()\n",
    "with open(\"Muti-class(airplan,bik,car).json\",\"w\") as json_file:\n",
    "    json_file.write(model_json)\n",
    "classfier.save_weights(\"Muti-class(airplan,bik,car).h5\")\n",
    "print(\"save model to disk\")"
   ]
  }
 ],
 "metadata": {
  "kernelspec": {
   "display_name": "Python 3",
   "language": "python",
   "name": "python3"
  },
  "language_info": {
   "codemirror_mode": {
    "name": "ipython",
    "version": 3
   },
   "file_extension": ".py",
   "mimetype": "text/x-python",
   "name": "python",
   "nbconvert_exporter": "python",
   "pygments_lexer": "ipython3",
   "version": "3.7.1"
  }
 },
 "nbformat": 4,
 "nbformat_minor": 2
}
