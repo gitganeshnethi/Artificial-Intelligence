{
 "cells": [
  {
   "cell_type": "code",
   "execution_count": 1,
   "metadata": {},
   "outputs": [
    {
     "name": "stderr",
     "output_type": "stream",
     "text": [
      "Using TensorFlow backend.\n"
     ]
    }
   ],
   "source": [
    "##Import libraries\n",
    "from keras.models import Sequential\n",
    "from keras.layers import Conv2D\n",
    "from keras.layers import MaxPooling2D\n",
    "from keras.layers import Flatten\n",
    "from keras.layers import Dense"
   ]
  },
  {
   "cell_type": "code",
   "execution_count": 2,
   "metadata": {},
   "outputs": [],
   "source": [
    "## Initialising the CNN\n",
    "classifier = Sequential()"
   ]
  },
  {
   "cell_type": "code",
   "execution_count": 3,
   "metadata": {},
   "outputs": [
    {
     "name": "stdout",
     "output_type": "stream",
     "text": [
      "WARNING:tensorflow:From C:\\Users\\Administrator\\Anaconda3\\lib\\site-packages\\tensorflow\\python\\framework\\op_def_library.py:263: colocate_with (from tensorflow.python.framework.ops) is deprecated and will be removed in a future version.\n",
      "Instructions for updating:\n",
      "Colocations handled automatically by placer.\n"
     ]
    }
   ],
   "source": [
    "## Convolution(64 feature detector of dimension 3 by 3), input shape 3 layer for color image)\n",
    "classifier.add(Conv2D(64,(3,3),input_shape = (64,64,3), activation = 'relu'))\n",
    "## MaxPooling\n",
    "classifier.add(MaxPooling2D(pool_size = (2,2)))\n",
    "\n",
    "## Add another layer\n",
    "classifier.add(Conv2D(64,(3,3), activation = 'relu'))\n",
    "classifier.add(MaxPooling2D(pool_size = (2,2)))\n",
    "\n",
    "## Add another layer\n",
    "classifier.add(Conv2D(64,(3,3), activation = 'relu'))\n",
    "classifier.add(MaxPooling2D(pool_size = (2,2)))\n"
   ]
  },
  {
   "cell_type": "code",
   "execution_count": 4,
   "metadata": {},
   "outputs": [],
   "source": [
    "## Flattening\n",
    "classifier.add(Flatten())"
   ]
  },
  {
   "cell_type": "code",
   "execution_count": 5,
   "metadata": {},
   "outputs": [],
   "source": [
    "## Fully connected ANN, Hidden ANN and output layer\n",
    "classifier.add(Dense(units = 128, activation = 'relu'))\n",
    "classifier.add(Dense(units = 128, activation = 'relu'))\n",
    "classifier.add(Dense(units = 128, activation = 'relu'))\n",
    "#output layer\n",
    "classifier.add(Dense(units = 1, activation = 'sigmoid'))"
   ]
  },
  {
   "cell_type": "code",
   "execution_count": 6,
   "metadata": {},
   "outputs": [],
   "source": [
    "## Compliling\n",
    "classifier.compile(optimizer = 'adam', loss = 'binary_crossentropy', metrics = ['accuracy'])"
   ]
  },
  {
   "cell_type": "code",
   "execution_count": 7,
   "metadata": {},
   "outputs": [],
   "source": [
    "## data importing and transforming and scaling\n",
    "from keras.preprocessing.image import ImageDataGenerator\n",
    "train_datagen = ImageDataGenerator(\n",
    "        rescale=1./255)"
   ]
  },
  {
   "cell_type": "code",
   "execution_count": 8,
   "metadata": {},
   "outputs": [],
   "source": [
    "## Scaling test data\n",
    "##no  data augmentation\n",
    "test_datagen = ImageDataGenerator(rescale=1./255)"
   ]
  },
  {
   "cell_type": "code",
   "execution_count": 30,
   "metadata": {},
   "outputs": [
    {
     "name": "stdout",
     "output_type": "stream",
     "text": [
      "Found 2000 images belonging to 2 classes.\n"
     ]
    }
   ],
   "source": [
    "## Importing training data\n",
    "train_set = train_datagen.flow_from_directory('train_set',\n",
    "                                               target_size=(64, 64),\n",
    "                                               batch_size=20,\n",
    "                                               class_mode='binary')"
   ]
  },
  {
   "cell_type": "code",
   "execution_count": 10,
   "metadata": {},
   "outputs": [
    {
     "name": "stdout",
     "output_type": "stream",
     "text": [
      "{'Burnt_Pizza': 0, 'Good_Pizza': 1}\n"
     ]
    }
   ],
   "source": [
    "#which is cat which is dog?\n",
    "label_map = (train_set.class_indices)\n",
    "print(label_map)"
   ]
  },
  {
   "cell_type": "code",
   "execution_count": 29,
   "metadata": {},
   "outputs": [
    {
     "name": "stdout",
     "output_type": "stream",
     "text": [
      "Found 100 images belonging to 2 classes.\n"
     ]
    }
   ],
   "source": [
    "## Importng test data\n",
    "test_set = test_datagen.flow_from_directory('test_set',\n",
    "                                            target_size=(64, 64),\n",
    "                                            batch_size=20,\n",
    "                                            class_mode='binary')"
   ]
  },
  {
   "cell_type": "code",
   "execution_count": 31,
   "metadata": {},
   "outputs": [
    {
     "name": "stdout",
     "output_type": "stream",
     "text": [
      "Epoch 1/50\n",
      "30/30 [==============================] - 7s 232ms/step - loss: 0.2922 - acc: 0.8850 - val_loss: 0.5013 - val_acc: 0.7800\n",
      "Epoch 2/50\n",
      "30/30 [==============================] - 7s 217ms/step - loss: 0.3062 - acc: 0.8717 - val_loss: 0.4855 - val_acc: 0.8200\n",
      "Epoch 3/50\n",
      "30/30 [==============================] - 6s 204ms/step - loss: 0.2960 - acc: 0.8683 - val_loss: 0.5770 - val_acc: 0.7600\n",
      "Epoch 4/50\n",
      "30/30 [==============================] - 6s 207ms/step - loss: 0.2474 - acc: 0.9050 - val_loss: 0.5787 - val_acc: 0.7800\n",
      "Epoch 5/50\n",
      "30/30 [==============================] - 6s 216ms/step - loss: 0.1646 - acc: 0.9383 - val_loss: 0.5893 - val_acc: 0.8100\n",
      "Epoch 6/50\n",
      "30/30 [==============================] - 7s 219ms/step - loss: 0.1989 - acc: 0.9233 - val_loss: 0.6559 - val_acc: 0.7600\n",
      "Epoch 7/50\n",
      "30/30 [==============================] - 7s 218ms/step - loss: 0.1582 - acc: 0.9433 - val_loss: 0.6764 - val_acc: 0.7500\n",
      "Epoch 8/50\n",
      "30/30 [==============================] - 6s 216ms/step - loss: 0.1175 - acc: 0.9550 - val_loss: 0.6592 - val_acc: 0.8300\n",
      "Epoch 9/50\n",
      "30/30 [==============================] - 7s 220ms/step - loss: 0.2256 - acc: 0.9050 - val_loss: 0.5009 - val_acc: 0.8400\n",
      "Epoch 10/50\n",
      "30/30 [==============================] - 6s 206ms/step - loss: 0.1154 - acc: 0.9550 - val_loss: 0.6921 - val_acc: 0.8500\n",
      "Epoch 11/50\n",
      "30/30 [==============================] - 6s 210ms/step - loss: 0.0521 - acc: 0.9850 - val_loss: 0.8832 - val_acc: 0.8300\n",
      "Epoch 12/50\n",
      "30/30 [==============================] - 6s 216ms/step - loss: 0.0462 - acc: 0.9817 - val_loss: 0.7909 - val_acc: 0.8700\n",
      "Epoch 13/50\n",
      "30/30 [==============================] - 6s 214ms/step - loss: 0.0801 - acc: 0.9633 - val_loss: 0.7743 - val_acc: 0.8400\n",
      "Epoch 14/50\n",
      "30/30 [==============================] - 6s 215ms/step - loss: 0.1106 - acc: 0.9567 - val_loss: 0.6551 - val_acc: 0.8400\n",
      "Epoch 15/50\n",
      "30/30 [==============================] - 6s 216ms/step - loss: 0.0549 - acc: 0.9733 - val_loss: 1.0275 - val_acc: 0.8200\n",
      "Epoch 16/50\n",
      "30/30 [==============================] - 7s 219ms/step - loss: 0.0781 - acc: 0.9750 - val_loss: 0.7989 - val_acc: 0.8200\n",
      "Epoch 17/50\n",
      "30/30 [==============================] - 6s 215ms/step - loss: 0.0261 - acc: 0.9883 - val_loss: 0.8544 - val_acc: 0.8400\n",
      "Epoch 18/50\n",
      "30/30 [==============================] - 7s 218ms/step - loss: 0.0113 - acc: 0.9950 - val_loss: 1.0848 - val_acc: 0.8400\n",
      "Epoch 19/50\n",
      "30/30 [==============================] - 6s 216ms/step - loss: 0.0078 - acc: 0.9983 - val_loss: 1.2095 - val_acc: 0.8200\n",
      "Epoch 20/50\n",
      "30/30 [==============================] - 6s 215ms/step - loss: 0.0118 - acc: 0.9933 - val_loss: 1.2170 - val_acc: 0.8400\n",
      "Epoch 21/50\n",
      "30/30 [==============================] - 6s 216ms/step - loss: 0.0216 - acc: 0.9933 - val_loss: 1.1949 - val_acc: 0.8100\n",
      "Epoch 22/50\n",
      "30/30 [==============================] - 7s 218ms/step - loss: 0.0102 - acc: 0.9983 - val_loss: 1.0951 - val_acc: 0.8400\n",
      "Epoch 23/50\n",
      "30/30 [==============================] - 7s 219ms/step - loss: 0.0212 - acc: 0.9917 - val_loss: 1.2997 - val_acc: 0.8000\n",
      "Epoch 24/50\n",
      "30/30 [==============================] - 7s 218ms/step - loss: 0.0677 - acc: 0.9817 - val_loss: 1.2099 - val_acc: 0.7800\n",
      "Epoch 25/50\n",
      "30/30 [==============================] - 6s 215ms/step - loss: 0.0711 - acc: 0.9767 - val_loss: 0.7624 - val_acc: 0.8300\n",
      "Epoch 26/50\n",
      "30/30 [==============================] - 6s 216ms/step - loss: 0.0179 - acc: 0.9967 - val_loss: 1.0355 - val_acc: 0.8200\n",
      "Epoch 27/50\n",
      "30/30 [==============================] - 6s 217ms/step - loss: 0.0139 - acc: 0.9933 - val_loss: 1.1499 - val_acc: 0.8200\n",
      "Epoch 28/50\n",
      "30/30 [==============================] - 7s 217ms/step - loss: 0.0403 - acc: 0.9867 - val_loss: 0.9173 - val_acc: 0.8200\n",
      "Epoch 29/50\n",
      "30/30 [==============================] - 6s 214ms/step - loss: 0.0149 - acc: 0.9967 - val_loss: 1.0730 - val_acc: 0.8200\n",
      "Epoch 30/50\n",
      "30/30 [==============================] - 7s 219ms/step - loss: 0.0058 - acc: 0.9983 - val_loss: 1.1130 - val_acc: 0.8300\n",
      "Epoch 31/50\n",
      "30/30 [==============================] - 6s 214ms/step - loss: 0.0055 - acc: 0.9983 - val_loss: 1.5981 - val_acc: 0.7600\n",
      "Epoch 32/50\n",
      "30/30 [==============================] - 6s 214ms/step - loss: 0.0224 - acc: 0.9933 - val_loss: 1.0206 - val_acc: 0.8500\n",
      "Epoch 33/50\n",
      "30/30 [==============================] - 6s 216ms/step - loss: 0.0055 - acc: 0.9967 - val_loss: 1.1151 - val_acc: 0.8300\n",
      "Epoch 34/50\n",
      "30/30 [==============================] - 6s 215ms/step - loss: 0.0033 - acc: 1.0000 - val_loss: 1.3194 - val_acc: 0.8300\n",
      "Epoch 35/50\n",
      "30/30 [==============================] - 6s 215ms/step - loss: 0.0183 - acc: 0.9917 - val_loss: 0.9885 - val_acc: 0.8200\n",
      "Epoch 36/50\n",
      "30/30 [==============================] - 6s 216ms/step - loss: 0.0375 - acc: 0.9883 - val_loss: 1.0957 - val_acc: 0.8500\n",
      "Epoch 37/50\n",
      "30/30 [==============================] - 6s 216ms/step - loss: 0.0182 - acc: 0.9933 - val_loss: 1.0356 - val_acc: 0.8400\n",
      "Epoch 38/50\n",
      "30/30 [==============================] - 6s 214ms/step - loss: 0.0032 - acc: 1.0000 - val_loss: 0.9949 - val_acc: 0.8600\n",
      "Epoch 39/50\n",
      "30/30 [==============================] - 6s 213ms/step - loss: 0.0065 - acc: 0.9967 - val_loss: 0.9857 - val_acc: 0.8600\n",
      "Epoch 40/50\n",
      "30/30 [==============================] - 6s 215ms/step - loss: 0.0399 - acc: 0.9850 - val_loss: 1.1190 - val_acc: 0.8300\n",
      "Epoch 41/50\n",
      "30/30 [==============================] - 6s 207ms/step - loss: 0.0384 - acc: 0.9883 - val_loss: 0.9731 - val_acc: 0.8500\n",
      "Epoch 42/50\n",
      "30/30 [==============================] - 6s 201ms/step - loss: 0.0219 - acc: 0.9917 - val_loss: 1.0490 - val_acc: 0.8600\n",
      "Epoch 43/50\n",
      "30/30 [==============================] - 6s 201ms/step - loss: 0.0034 - acc: 1.0000 - val_loss: 1.0300 - val_acc: 0.8600\n",
      "Epoch 44/50\n",
      "30/30 [==============================] - 6s 210ms/step - loss: 0.0136 - acc: 0.9950 - val_loss: 1.3439 - val_acc: 0.8600\n",
      "Epoch 45/50\n",
      "30/30 [==============================] - 6s 216ms/step - loss: 0.0934 - acc: 0.9750 - val_loss: 0.6656 - val_acc: 0.8300\n",
      "Epoch 46/50\n",
      "30/30 [==============================] - 6s 216ms/step - loss: 0.0546 - acc: 0.9783 - val_loss: 0.8311 - val_acc: 0.8200\n",
      "Epoch 47/50\n",
      "30/30 [==============================] - 6s 216ms/step - loss: 0.0187 - acc: 0.9950 - val_loss: 0.9322 - val_acc: 0.8800\n",
      "Epoch 48/50\n",
      "30/30 [==============================] - 6s 215ms/step - loss: 0.0078 - acc: 1.0000 - val_loss: 1.0704 - val_acc: 0.8400\n",
      "Epoch 49/50\n",
      "30/30 [==============================] - 6s 216ms/step - loss: 0.0256 - acc: 0.9883 - val_loss: 1.0806 - val_acc: 0.8500\n",
      "Epoch 50/50\n",
      "30/30 [==============================] - 6s 199ms/step - loss: 0.0431 - acc: 0.9817 - val_loss: 0.9882 - val_acc: 0.8600\n"
     ]
    },
    {
     "data": {
      "text/plain": [
       "<keras.callbacks.History at 0x286f01723c8>"
      ]
     },
     "execution_count": 31,
     "metadata": {},
     "output_type": "execute_result"
    }
   ],
   "source": [
    "## fitting model to images\n",
    "classifier.fit_generator(\n",
    "        train_set,\n",
    "        steps_per_epoch=30,\n",
    "        epochs = 50,validation_data=test_set,\n",
    "        validation_steps=20\n",
    "        )"
   ]
  },
  {
   "cell_type": "code",
   "execution_count": 37,
   "metadata": {},
   "outputs": [],
   "source": [
    "## prediction of single new data\n",
    "import numpy as np\n",
    "from keras.preprocessing import image\n",
    "test_image= image.load_img('inference\\p3.jpg',\n",
    "                           target_size =(64,64))\n"
   ]
  },
  {
   "cell_type": "code",
   "execution_count": 38,
   "metadata": {},
   "outputs": [
    {
     "data": {
      "image/png": "[encoded data removed]",
      "text/plain": [
       "<PIL.Image.Image image mode=RGB size=64x64 at 0x286F0172EF0>"
      ]
     },
     "execution_count": 38,
     "metadata": {},
     "output_type": "execute_result"
    }
   ],
   "source": [
    "test_image"
   ]
  },
  {
   "cell_type": "code",
   "execution_count": 39,
   "metadata": {},
   "outputs": [],
   "source": [
    "## Convert image to array\n",
    "test_image = image.img_to_array(test_image)\n",
    "\n",
    "## For single prediction change the dimension using axis. To remove problem of batch\n",
    "test_image=test_image.reshape(1,64,64,3)\n",
    "\n",
    "result = classifier.predict(test_image)"
   ]
  },
  {
   "cell_type": "code",
   "execution_count": 40,
   "metadata": {},
   "outputs": [],
   "source": [
    "## Class label of dog and cat\n",
    "\n",
    "if result == 0:\n",
    "    prediction = 'Burnt Pizza'\n",
    "else:\n",
    "    prediction = 'Good Pizza'\n",
    "    "
   ]
  },
  {
   "cell_type": "code",
   "execution_count": 41,
   "metadata": {},
   "outputs": [
    {
     "data": {
      "text/plain": [
       "'Good Pizza'"
      ]
     },
     "execution_count": 41,
     "metadata": {},
     "output_type": "execute_result"
    }
   ],
   "source": [
    "prediction"
   ]
  },
  {
   "cell_type": "markdown",
   "metadata": {},
   "source": [
    "# Saving the Model"
   ]
  },
  {
   "cell_type": "code",
   "execution_count": null,
   "metadata": {},
   "outputs": [],
   "source": [
    "#serialize model to json\n",
    "model_json = classifier.to_json()\n",
    "with open(\"Binary.json\",\"w\") as json_file:\n",
    "    json_file.write(model_json)\n",
    "#serialize weights to HDFS\n",
    "classifier.save_weights(\"Binary.h5\")\n",
    "print(\"Save model to disk\")"
   ]
  }
 ],
 "metadata": {
  "kernelspec": {
   "display_name": "Python 3",
   "language": "python",
   "name": "python3"
  },
  "language_info": {
   "codemirror_mode": {
    "name": "ipython",
    "version": 3
   },
   "file_extension": ".py",
   "mimetype": "text/x-python",
   "name": "python",
   "nbconvert_exporter": "python",
   "pygments_lexer": "ipython3",
   "version": "3.7.1"
  }
 },
 "nbformat": 4,
 "nbformat_minor": 2
}
